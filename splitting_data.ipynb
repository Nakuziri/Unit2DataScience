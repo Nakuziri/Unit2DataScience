{
 "cells": [
  {
   "cell_type": "markdown",
   "metadata": {},
   "source": [
    "# Splitting Data\n",
    "In this lab you will begin working with data sets with multiple peices of information. Multiple pieces of information is normally stored in format called **CSV** which stands for Comma Seperate Values.\n",
    "\n",
    "For any questions, edit the appropriate markdown block and answer between the ` ``` ``` ` using complete sentences. \n",
    "\n",
    "For any code blocks you are to include comments explaining your code to recieve full credit."
   ]
  },
  {
   "attachments": {},
   "cell_type": "markdown",
   "metadata": {},
   "source": [
    "1. Open the file `sales.csv` in VSCode, how is the data organized? How can you differentiate between the various pieces of information included in this data set?\n",
    "```\n",
    "The data within the sales file is organized in a list by customer, subtotal, the total, and the date.\n",
    "```\n",
    "\n",
    "2. Is this a effective method of storing data? Why or why not?\n",
    "```\n",
    "I believe that it's uneffective to us as humans due to how difficult it is to read clumped up words like that.\n",
    "```\n",
    "\n",
    "3. What types of information is stored in this file? How could this information be used by a business?\n",
    "```\n",
    "The type of information stored within witihn the file is the customers information. This information can be used by a business to keep track of sales, orders, and potential reciepts for customers that would like to return said items.\n",
    "```\n",
    "\n",
    "4. How would we seperate each piece of information to be used in a python program?\n",
    "```\n",
    "We can seperate each piece of information by using the split function with a \",\" to split each item of the list.\n",
    "```"
   ]
  },
  {
   "cell_type": "markdown",
   "metadata": {},
   "source": [
    "Run the following code, and analyze the output"
   ]
  },
  {
   "cell_type": "code",
   "execution_count": 1,
   "metadata": {},
   "outputs": [
    {
     "name": "stdout",
     "output_type": "stream",
     "text": [
      "Counter({'B': 5, 'A': 3, 'C': 2})\n"
     ]
    }
   ],
   "source": [
    "from collections import Counter\n",
    "\n",
    "letters = ['B','B','A','B','C','A','B','B','A','C']\n",
    "\n",
    "letters_count = Counter(letters)\n",
    "\n",
    "print(letters_count)"
   ]
  },
  {
   "attachments": {},
   "cell_type": "markdown",
   "metadata": {},
   "source": [
    "5. What was the output of the above code block? What did it accomplish?\n",
    "```\n",
    "The output of the aforementioned code is a counter of how many times a specific character was repeated within a specific list.\n",
    "```\n",
    "6. What is the format of the output? What data type does it most relate to?\n",
    "```\n",
    "The format of an output is a tuple. This date type is a list that is immutable.\n",
    "```"
   ]
  },
  {
   "cell_type": "markdown",
   "metadata": {},
   "source": [
    "*Use the code block below to open `sales.csv` with python. Then create a variable called `content` which is equal to a list of each line of the file*"
   ]
  },
  {
   "cell_type": "code",
   "execution_count": null,
   "metadata": {},
   "outputs": [],
   "source": [
    "\n",
    "with open('sales.csv') as sales :\n",
    "    content = sales.readlines\n",
    "    "
   ]
  },
  {
   "cell_type": "markdown",
   "metadata": {},
   "source": [
    "*Using the `split` function, seperate each row of data. Then append the customer's name to a list called `customers`*"
   ]
  },
  {
   "cell_type": "code",
   "execution_count": null,
   "metadata": {},
   "outputs": [],
   "source": []
  }
 ],
 "metadata": {
  "kernelspec": {
   "display_name": "Python 3",
   "language": "python",
   "name": "python3"
  },
  "language_info": {
   "codemirror_mode": {
    "name": "ipython",
    "version": 3
   },
   "file_extension": ".py",
   "mimetype": "text/x-python",
   "name": "python",
   "nbconvert_exporter": "python",
   "pygments_lexer": "ipython3",
   "version": "3.10.8"
  },
  "vscode": {
   "interpreter": {
    "hash": "b0fa6594d8f4cbf19f97940f81e996739fb7646882a419484c72d19e05852a7e"
   }
  }
 },
 "nbformat": 4,
 "nbformat_minor": 2
}
